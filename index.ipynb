{
 "cells": [
  {
   "cell_type": "markdown",
   "metadata": {},
   "source": [
    "# In Depth A/B Testing - Lab\n",
    "\n",
    "## Introduction\n",
    "\n",
    "In this lab, you'll explore a survey from Kaggle regarding budding data scientists. With this, you'll form some initial hypotheses, and test them using the tools you've acquired to date. \n",
    "\n",
    "## Objectives\n",
    "\n",
    "You will be able to:\n",
    "* Conduct statistical tests on a real-world dataset"
   ]
  },
  {
   "cell_type": "markdown",
   "metadata": {},
   "source": [
    "## Load the Dataset and Perform a Brief Exploration\n",
    "\n",
    "The data is stored in a file called **multipleChoiceResponses_cleaned.csv**. Feel free to check out the original dataset referenced at the bottom of this lab, although this cleaned version will undoubtedly be easier to work with. Additionally, meta-data regarding the questions is stored in a file name **schema.csv**. Load in the data itself as a Pandas DataFrame, and take a moment to briefly get acquainted with it.\n",
    "\n",
    "> Note: If you can't get the file to load properly, try changing the encoding format as in `encoding='latin1'`"
   ]
  },
  {
   "cell_type": "code",
   "execution_count": 1,
   "metadata": {},
   "outputs": [
    {
     "name": "stdout",
     "output_type": "stream",
     "text": [
      "CONTRIBUTING.md  index.ipynb  multipleChoiceResponses_cleaned.csv  README.md\r\n",
      "index_files\t LICENSE.md   multipleChoiceResponses.csv\t   schema.csv\r\n"
     ]
    }
   ],
   "source": [
    "!ls"
   ]
  },
  {
   "cell_type": "code",
   "execution_count": 2,
   "metadata": {},
   "outputs": [],
   "source": [
    "import pandas as pd"
   ]
  },
  {
   "cell_type": "code",
   "execution_count": 3,
   "metadata": {},
   "outputs": [
    {
     "name": "stderr",
     "output_type": "stream",
     "text": [
      "/opt/conda/envs/learn-env/lib/python3.6/site-packages/IPython/core/interactiveshell.py:2785: DtypeWarning: Columns (1,2,3,4,5,6,7,8,9,10,11,12,13,14,15,16,17,18,19,20,21,22,23,24,25,26,27,28,29,30,31,32,33,34,35,36,37,38,39,40,41,42,43,44,45,46,47,48,49,50,51,52,53,54,55,56,57,58,65,66,67,68,69,70,71,72,73,74,75,76,77,78,79,80,81,82,83,84,85,86,87,88,89,90,91,92,93,94,95,96,97,98,99,100,101,102,103,104,105,106,107,108,109,110,111,112,113,114,115,116,117,118,119,120,121,122,123,124,125,126,127,128,129,130,131,132,133,134,135,136,137,138,139,140,141,142,143,144,145,146,147,148,149,150,151,152,153,154,155,156,157,158,159,160,161,162,163,164,165,172,173,174,175,176,177,178,179,180,181,182,183,184,185,186,187,188,189,190,191,192,193,194,195,196,197,198,199,200,201,202,203,204,205,207,208,209,210,211,212,213,214,215,216,217,218,219,220,221,222,223,224,225,226,227) have mixed types. Specify dtype option on import or set low_memory=False.\n",
      "  interactivity=interactivity, compiler=compiler, result=result)\n"
     ]
    }
   ],
   "source": [
    "df = pd.read_csv('multipleChoiceResponses_cleaned.csv', encoding='latin1')"
   ]
  },
  {
   "cell_type": "code",
   "execution_count": 4,
   "metadata": {},
   "outputs": [
    {
     "data": {
      "text/html": [
       "<div>\n",
       "<style scoped>\n",
       "    .dataframe tbody tr th:only-of-type {\n",
       "        vertical-align: middle;\n",
       "    }\n",
       "\n",
       "    .dataframe tbody tr th {\n",
       "        vertical-align: top;\n",
       "    }\n",
       "\n",
       "    .dataframe thead th {\n",
       "        text-align: right;\n",
       "    }\n",
       "</style>\n",
       "<table border=\"1\" class=\"dataframe\">\n",
       "  <thead>\n",
       "    <tr style=\"text-align: right;\">\n",
       "      <th></th>\n",
       "      <th>GenderSelect</th>\n",
       "      <th>Country</th>\n",
       "      <th>Age</th>\n",
       "      <th>EmploymentStatus</th>\n",
       "      <th>StudentStatus</th>\n",
       "      <th>LearningDataScience</th>\n",
       "      <th>CodeWriter</th>\n",
       "      <th>CareerSwitcher</th>\n",
       "      <th>CurrentJobTitleSelect</th>\n",
       "      <th>TitleFit</th>\n",
       "      <th>...</th>\n",
       "      <th>JobFactorTitle</th>\n",
       "      <th>JobFactorCompanyFunding</th>\n",
       "      <th>JobFactorImpact</th>\n",
       "      <th>JobFactorRemote</th>\n",
       "      <th>JobFactorIndustry</th>\n",
       "      <th>JobFactorLeaderReputation</th>\n",
       "      <th>JobFactorDiversity</th>\n",
       "      <th>JobFactorPublishingOpportunity</th>\n",
       "      <th>exchangeRate</th>\n",
       "      <th>AdjustedCompensation</th>\n",
       "    </tr>\n",
       "  </thead>\n",
       "  <tbody>\n",
       "    <tr>\n",
       "      <th>0</th>\n",
       "      <td>Non-binary, genderqueer, or gender non-conforming</td>\n",
       "      <td>NaN</td>\n",
       "      <td>NaN</td>\n",
       "      <td>Employed full-time</td>\n",
       "      <td>NaN</td>\n",
       "      <td>NaN</td>\n",
       "      <td>Yes</td>\n",
       "      <td>NaN</td>\n",
       "      <td>DBA/Database Engineer</td>\n",
       "      <td>Fine</td>\n",
       "      <td>...</td>\n",
       "      <td>NaN</td>\n",
       "      <td>NaN</td>\n",
       "      <td>NaN</td>\n",
       "      <td>NaN</td>\n",
       "      <td>NaN</td>\n",
       "      <td>NaN</td>\n",
       "      <td>NaN</td>\n",
       "      <td>NaN</td>\n",
       "      <td>NaN</td>\n",
       "      <td>NaN</td>\n",
       "    </tr>\n",
       "    <tr>\n",
       "      <th>1</th>\n",
       "      <td>Female</td>\n",
       "      <td>United States</td>\n",
       "      <td>30.0</td>\n",
       "      <td>Not employed, but looking for work</td>\n",
       "      <td>NaN</td>\n",
       "      <td>NaN</td>\n",
       "      <td>NaN</td>\n",
       "      <td>NaN</td>\n",
       "      <td>NaN</td>\n",
       "      <td>NaN</td>\n",
       "      <td>...</td>\n",
       "      <td>NaN</td>\n",
       "      <td>NaN</td>\n",
       "      <td>NaN</td>\n",
       "      <td>NaN</td>\n",
       "      <td>NaN</td>\n",
       "      <td>Somewhat important</td>\n",
       "      <td>NaN</td>\n",
       "      <td>NaN</td>\n",
       "      <td>NaN</td>\n",
       "      <td>NaN</td>\n",
       "    </tr>\n",
       "    <tr>\n",
       "      <th>2</th>\n",
       "      <td>Male</td>\n",
       "      <td>Canada</td>\n",
       "      <td>28.0</td>\n",
       "      <td>Not employed, but looking for work</td>\n",
       "      <td>NaN</td>\n",
       "      <td>NaN</td>\n",
       "      <td>NaN</td>\n",
       "      <td>NaN</td>\n",
       "      <td>NaN</td>\n",
       "      <td>NaN</td>\n",
       "      <td>...</td>\n",
       "      <td>Very Important</td>\n",
       "      <td>Very Important</td>\n",
       "      <td>Very Important</td>\n",
       "      <td>Very Important</td>\n",
       "      <td>Very Important</td>\n",
       "      <td>Very Important</td>\n",
       "      <td>Very Important</td>\n",
       "      <td>Very Important</td>\n",
       "      <td>NaN</td>\n",
       "      <td>NaN</td>\n",
       "    </tr>\n",
       "    <tr>\n",
       "      <th>3</th>\n",
       "      <td>Male</td>\n",
       "      <td>United States</td>\n",
       "      <td>56.0</td>\n",
       "      <td>Independent contractor, freelancer, or self-em...</td>\n",
       "      <td>NaN</td>\n",
       "      <td>NaN</td>\n",
       "      <td>Yes</td>\n",
       "      <td>NaN</td>\n",
       "      <td>Operations Research Practitioner</td>\n",
       "      <td>Poorly</td>\n",
       "      <td>...</td>\n",
       "      <td>NaN</td>\n",
       "      <td>NaN</td>\n",
       "      <td>NaN</td>\n",
       "      <td>NaN</td>\n",
       "      <td>NaN</td>\n",
       "      <td>NaN</td>\n",
       "      <td>NaN</td>\n",
       "      <td>NaN</td>\n",
       "      <td>1.0</td>\n",
       "      <td>250000.0</td>\n",
       "    </tr>\n",
       "    <tr>\n",
       "      <th>4</th>\n",
       "      <td>Male</td>\n",
       "      <td>Taiwan</td>\n",
       "      <td>38.0</td>\n",
       "      <td>Employed full-time</td>\n",
       "      <td>NaN</td>\n",
       "      <td>NaN</td>\n",
       "      <td>Yes</td>\n",
       "      <td>NaN</td>\n",
       "      <td>Computer Scientist</td>\n",
       "      <td>Fine</td>\n",
       "      <td>...</td>\n",
       "      <td>NaN</td>\n",
       "      <td>NaN</td>\n",
       "      <td>NaN</td>\n",
       "      <td>NaN</td>\n",
       "      <td>NaN</td>\n",
       "      <td>NaN</td>\n",
       "      <td>NaN</td>\n",
       "      <td>NaN</td>\n",
       "      <td>NaN</td>\n",
       "      <td>NaN</td>\n",
       "    </tr>\n",
       "  </tbody>\n",
       "</table>\n",
       "<p>5 rows × 230 columns</p>\n",
       "</div>"
      ],
      "text/plain": [
       "                                        GenderSelect        Country   Age  \\\n",
       "0  Non-binary, genderqueer, or gender non-conforming            NaN   NaN   \n",
       "1                                             Female  United States  30.0   \n",
       "2                                               Male         Canada  28.0   \n",
       "3                                               Male  United States  56.0   \n",
       "4                                               Male         Taiwan  38.0   \n",
       "\n",
       "                                    EmploymentStatus StudentStatus  \\\n",
       "0                                 Employed full-time           NaN   \n",
       "1                 Not employed, but looking for work           NaN   \n",
       "2                 Not employed, but looking for work           NaN   \n",
       "3  Independent contractor, freelancer, or self-em...           NaN   \n",
       "4                                 Employed full-time           NaN   \n",
       "\n",
       "  LearningDataScience CodeWriter CareerSwitcher  \\\n",
       "0                 NaN        Yes            NaN   \n",
       "1                 NaN        NaN            NaN   \n",
       "2                 NaN        NaN            NaN   \n",
       "3                 NaN        Yes            NaN   \n",
       "4                 NaN        Yes            NaN   \n",
       "\n",
       "              CurrentJobTitleSelect TitleFit         ...           \\\n",
       "0             DBA/Database Engineer     Fine         ...            \n",
       "1                               NaN      NaN         ...            \n",
       "2                               NaN      NaN         ...            \n",
       "3  Operations Research Practitioner   Poorly         ...            \n",
       "4                Computer Scientist     Fine         ...            \n",
       "\n",
       "   JobFactorTitle JobFactorCompanyFunding JobFactorImpact JobFactorRemote  \\\n",
       "0             NaN                     NaN             NaN             NaN   \n",
       "1             NaN                     NaN             NaN             NaN   \n",
       "2  Very Important          Very Important  Very Important  Very Important   \n",
       "3             NaN                     NaN             NaN             NaN   \n",
       "4             NaN                     NaN             NaN             NaN   \n",
       "\n",
       "  JobFactorIndustry JobFactorLeaderReputation JobFactorDiversity  \\\n",
       "0               NaN                       NaN                NaN   \n",
       "1               NaN        Somewhat important                NaN   \n",
       "2    Very Important            Very Important     Very Important   \n",
       "3               NaN                       NaN                NaN   \n",
       "4               NaN                       NaN                NaN   \n",
       "\n",
       "  JobFactorPublishingOpportunity exchangeRate AdjustedCompensation  \n",
       "0                            NaN          NaN                  NaN  \n",
       "1                            NaN          NaN                  NaN  \n",
       "2                 Very Important          NaN                  NaN  \n",
       "3                            NaN          1.0             250000.0  \n",
       "4                            NaN          NaN                  NaN  \n",
       "\n",
       "[5 rows x 230 columns]"
      ]
     },
     "execution_count": 4,
     "metadata": {},
     "output_type": "execute_result"
    }
   ],
   "source": [
    "df.head()"
   ]
  },
  {
   "cell_type": "code",
   "execution_count": 5,
   "metadata": {},
   "outputs": [
    {
     "name": "stdout",
     "output_type": "stream",
     "text": [
      "<class 'pandas.core.frame.DataFrame'>\n",
      "RangeIndex: 26394 entries, 0 to 26393\n",
      "Columns: 230 entries, GenderSelect to AdjustedCompensation\n",
      "dtypes: float64(15), object(215)\n",
      "memory usage: 46.3+ MB\n"
     ]
    }
   ],
   "source": [
    "df.info()"
   ]
  },
  {
   "cell_type": "code",
   "execution_count": 6,
   "metadata": {},
   "outputs": [
    {
     "data": {
      "text/plain": [
       "GenderSelect                                object\n",
       "Country                                     object\n",
       "Age                                         object\n",
       "EmploymentStatus                            object\n",
       "StudentStatus                               object\n",
       "LearningDataScience                         object\n",
       "CodeWriter                                  object\n",
       "CareerSwitcher                              object\n",
       "CurrentJobTitleSelect                       object\n",
       "TitleFit                                    object\n",
       "CurrentEmployerType                         object\n",
       "MLToolNextYearSelect                        object\n",
       "MLMethodNextYearSelect                      object\n",
       "LanguageRecommendationSelect                object\n",
       "PublicDatasetsSelect                        object\n",
       "LearningPlatformSelect                      object\n",
       "LearningPlatformUsefulnessArxiv             object\n",
       "LearningPlatformUsefulnessBlogs             object\n",
       "LearningPlatformUsefulnessCollege           object\n",
       "LearningPlatformUsefulnessCompany           object\n",
       "LearningPlatformUsefulnessConferences       object\n",
       "LearningPlatformUsefulnessFriends           object\n",
       "LearningPlatformUsefulnessKaggle            object\n",
       "LearningPlatformUsefulnessNewsletters       object\n",
       "LearningPlatformUsefulnessCommunities       object\n",
       "LearningPlatformUsefulnessDocumentation     object\n",
       "LearningPlatformUsefulnessCourses           object\n",
       "LearningPlatformUsefulnessProjects          object\n",
       "LearningPlatformUsefulnessPodcasts          object\n",
       "LearningPlatformUsefulnessSO                object\n",
       "                                            ...   \n",
       "WorkDatasetsChallenge                       object\n",
       "WorkDataStorage                             object\n",
       "WorkDataSharing                             object\n",
       "WorkDataSourcing                            object\n",
       "WorkCodeSharing                             object\n",
       "RemoteWork                                  object\n",
       "CompensationAmount                         float64\n",
       "CompensationCurrency                        object\n",
       "SalaryChange                                object\n",
       "JobSatisfaction                             object\n",
       "JobSearchResource                           object\n",
       "JobHuntTime                                 object\n",
       "JobFactorLearning                           object\n",
       "JobFactorSalary                             object\n",
       "JobFactorOffice                             object\n",
       "JobFactorLanguages                          object\n",
       "JobFactorCommute                            object\n",
       "JobFactorManagement                         object\n",
       "JobFactorExperienceLevel                    object\n",
       "JobFactorDepartment                         object\n",
       "JobFactorTitle                              object\n",
       "JobFactorCompanyFunding                     object\n",
       "JobFactorImpact                             object\n",
       "JobFactorRemote                             object\n",
       "JobFactorIndustry                           object\n",
       "JobFactorLeaderReputation                   object\n",
       "JobFactorDiversity                          object\n",
       "JobFactorPublishingOpportunity              object\n",
       "exchangeRate                               float64\n",
       "AdjustedCompensation                       float64\n",
       "Length: 230, dtype: object"
      ]
     },
     "execution_count": 6,
     "metadata": {},
     "output_type": "execute_result"
    }
   ],
   "source": [
    "df.dtypes"
   ]
  },
  {
   "cell_type": "code",
   "execution_count": 7,
   "metadata": {},
   "outputs": [
    {
     "name": "stdout",
     "output_type": "stream",
     "text": [
      "CONTRIBUTING.md  index.ipynb  multipleChoiceResponses_cleaned.csv  README.md\r\n",
      "index_files\t LICENSE.md   multipleChoiceResponses.csv\t   schema.csv\r\n"
     ]
    }
   ],
   "source": [
    "!ls"
   ]
  },
  {
   "cell_type": "code",
   "execution_count": 8,
   "metadata": {},
   "outputs": [],
   "source": [
    "schema_df = pd.read_csv('schema.csv')"
   ]
  },
  {
   "cell_type": "code",
   "execution_count": 9,
   "metadata": {},
   "outputs": [
    {
     "data": {
      "text/html": [
       "<div>\n",
       "<style scoped>\n",
       "    .dataframe tbody tr th:only-of-type {\n",
       "        vertical-align: middle;\n",
       "    }\n",
       "\n",
       "    .dataframe tbody tr th {\n",
       "        vertical-align: top;\n",
       "    }\n",
       "\n",
       "    .dataframe thead th {\n",
       "        text-align: right;\n",
       "    }\n",
       "</style>\n",
       "<table border=\"1\" class=\"dataframe\">\n",
       "  <thead>\n",
       "    <tr style=\"text-align: right;\">\n",
       "      <th></th>\n",
       "      <th>Column</th>\n",
       "      <th>Question</th>\n",
       "      <th>Asked</th>\n",
       "    </tr>\n",
       "  </thead>\n",
       "  <tbody>\n",
       "    <tr>\n",
       "      <th>0</th>\n",
       "      <td>GenderSelect</td>\n",
       "      <td>Select your gender identity. - Selected Choice</td>\n",
       "      <td>All</td>\n",
       "    </tr>\n",
       "    <tr>\n",
       "      <th>1</th>\n",
       "      <td>GenderFreeForm</td>\n",
       "      <td>Select your gender identity. - A different ide...</td>\n",
       "      <td>All</td>\n",
       "    </tr>\n",
       "    <tr>\n",
       "      <th>2</th>\n",
       "      <td>Country</td>\n",
       "      <td>Select the country you currently live in.</td>\n",
       "      <td>All</td>\n",
       "    </tr>\n",
       "    <tr>\n",
       "      <th>3</th>\n",
       "      <td>Age</td>\n",
       "      <td>What's your age?</td>\n",
       "      <td>All</td>\n",
       "    </tr>\n",
       "    <tr>\n",
       "      <th>4</th>\n",
       "      <td>EmploymentStatus</td>\n",
       "      <td>What's your current employment status?</td>\n",
       "      <td>All</td>\n",
       "    </tr>\n",
       "    <tr>\n",
       "      <th>5</th>\n",
       "      <td>StudentStatus</td>\n",
       "      <td>Are you currently enrolled as a student at a d...</td>\n",
       "      <td>Non-worker</td>\n",
       "    </tr>\n",
       "    <tr>\n",
       "      <th>6</th>\n",
       "      <td>LearningDataScience</td>\n",
       "      <td>Are you currently focused on learning data sci...</td>\n",
       "      <td>Non-worker</td>\n",
       "    </tr>\n",
       "    <tr>\n",
       "      <th>7</th>\n",
       "      <td>KaggleMotivationFreeForm</td>\n",
       "      <td>What's your motivation for being a Kaggle user?</td>\n",
       "      <td>Non-switcher</td>\n",
       "    </tr>\n",
       "    <tr>\n",
       "      <th>8</th>\n",
       "      <td>CodeWriter</td>\n",
       "      <td>Do you write code to analyze data in your curr...</td>\n",
       "      <td>Worker1</td>\n",
       "    </tr>\n",
       "    <tr>\n",
       "      <th>9</th>\n",
       "      <td>CareerSwitcher</td>\n",
       "      <td>Are you actively looking to switch careers to ...</td>\n",
       "      <td>Worker1</td>\n",
       "    </tr>\n",
       "    <tr>\n",
       "      <th>10</th>\n",
       "      <td>CurrentJobTitleSelect</td>\n",
       "      <td>Select the option that's most similar to your ...</td>\n",
       "      <td>Worker1</td>\n",
       "    </tr>\n",
       "    <tr>\n",
       "      <th>11</th>\n",
       "      <td>CurrentJobTitleFreeForm</td>\n",
       "      <td>Select the option that's most similar to your ...</td>\n",
       "      <td>Worker1</td>\n",
       "    </tr>\n",
       "    <tr>\n",
       "      <th>12</th>\n",
       "      <td>TitleFit</td>\n",
       "      <td>How adequately do you feel your title describe...</td>\n",
       "      <td>Worker1</td>\n",
       "    </tr>\n",
       "    <tr>\n",
       "      <th>13</th>\n",
       "      <td>CurrentEmployerType</td>\n",
       "      <td>Which of the following describe your current e...</td>\n",
       "      <td>Worker1</td>\n",
       "    </tr>\n",
       "    <tr>\n",
       "      <th>14</th>\n",
       "      <td>MLToolNextYearSelect</td>\n",
       "      <td>Which tool or technology are you most excited ...</td>\n",
       "      <td>All</td>\n",
       "    </tr>\n",
       "    <tr>\n",
       "      <th>15</th>\n",
       "      <td>MLToolNextYearFreeForm</td>\n",
       "      <td>Which tool or technology are you most excited ...</td>\n",
       "      <td>All</td>\n",
       "    </tr>\n",
       "    <tr>\n",
       "      <th>16</th>\n",
       "      <td>MLMethodNextYearSelect</td>\n",
       "      <td>Which ML/DS method are you most excited about ...</td>\n",
       "      <td>All</td>\n",
       "    </tr>\n",
       "    <tr>\n",
       "      <th>17</th>\n",
       "      <td>MLMethodNextYearFreeForm</td>\n",
       "      <td>Which ML/DS method are you most excited about ...</td>\n",
       "      <td>All</td>\n",
       "    </tr>\n",
       "    <tr>\n",
       "      <th>18</th>\n",
       "      <td>LanguageRecommendationSelect</td>\n",
       "      <td>What programming language would you recommend ...</td>\n",
       "      <td>All</td>\n",
       "    </tr>\n",
       "    <tr>\n",
       "      <th>19</th>\n",
       "      <td>LanguageRecommendationFreeForm</td>\n",
       "      <td>What programming language would you recommend ...</td>\n",
       "      <td>All</td>\n",
       "    </tr>\n",
       "    <tr>\n",
       "      <th>20</th>\n",
       "      <td>PublicDatasetsSelect</td>\n",
       "      <td>Where do you find public datasets to practice ...</td>\n",
       "      <td>All</td>\n",
       "    </tr>\n",
       "    <tr>\n",
       "      <th>21</th>\n",
       "      <td>PublicDatasetsFreeForm</td>\n",
       "      <td>Where do you find public datasets to practice ...</td>\n",
       "      <td>All</td>\n",
       "    </tr>\n",
       "    <tr>\n",
       "      <th>22</th>\n",
       "      <td>PersonalProjectsChallengeFreeForm</td>\n",
       "      <td>What is your biggest challenge with the public...</td>\n",
       "      <td>All</td>\n",
       "    </tr>\n",
       "    <tr>\n",
       "      <th>23</th>\n",
       "      <td>LearningPlatformSelect</td>\n",
       "      <td>What platforms &amp; resources have you used to co...</td>\n",
       "      <td>All</td>\n",
       "    </tr>\n",
       "    <tr>\n",
       "      <th>24</th>\n",
       "      <td>LearningPlatformCommunityFreeForm</td>\n",
       "      <td>What platforms &amp; resources have you used to co...</td>\n",
       "      <td>All</td>\n",
       "    </tr>\n",
       "    <tr>\n",
       "      <th>25</th>\n",
       "      <td>LearningPlatformFreeForm1</td>\n",
       "      <td>What platforms &amp; resources have you used to co...</td>\n",
       "      <td>All</td>\n",
       "    </tr>\n",
       "    <tr>\n",
       "      <th>26</th>\n",
       "      <td>LearningPlatformFreeForm2</td>\n",
       "      <td>What platforms &amp; resources have you used to co...</td>\n",
       "      <td>All</td>\n",
       "    </tr>\n",
       "    <tr>\n",
       "      <th>27</th>\n",
       "      <td>LearningPlatformFreeForm3</td>\n",
       "      <td>What platforms &amp; resources have you used to co...</td>\n",
       "      <td>All</td>\n",
       "    </tr>\n",
       "    <tr>\n",
       "      <th>28</th>\n",
       "      <td>LearningPlatformUsefulnessArxiv</td>\n",
       "      <td>How useful did you find these platforms &amp; reso...</td>\n",
       "      <td>All</td>\n",
       "    </tr>\n",
       "    <tr>\n",
       "      <th>29</th>\n",
       "      <td>LearningPlatformUsefulnessBlogs</td>\n",
       "      <td>How useful did you find these platforms &amp; reso...</td>\n",
       "      <td>All</td>\n",
       "    </tr>\n",
       "    <tr>\n",
       "      <th>...</th>\n",
       "      <td>...</td>\n",
       "      <td>...</td>\n",
       "      <td>...</td>\n",
       "    </tr>\n",
       "    <tr>\n",
       "      <th>260</th>\n",
       "      <td>WorkDataStorageFreeForm</td>\n",
       "      <td>At work, which of these data storage models do...</td>\n",
       "      <td>CodingWorker</td>\n",
       "    </tr>\n",
       "    <tr>\n",
       "      <th>261</th>\n",
       "      <td>WorkDataSharing</td>\n",
       "      <td>At work, which tools do you use to share sourc...</td>\n",
       "      <td>CodingWorker</td>\n",
       "    </tr>\n",
       "    <tr>\n",
       "      <th>262</th>\n",
       "      <td>WorkDataSourcing</td>\n",
       "      <td>At work, which tools do you use to share sourc...</td>\n",
       "      <td>CodingWorker</td>\n",
       "    </tr>\n",
       "    <tr>\n",
       "      <th>263</th>\n",
       "      <td>WorkCodeSharing</td>\n",
       "      <td>At work, which tools do you use to share code?...</td>\n",
       "      <td>CodingWorker</td>\n",
       "    </tr>\n",
       "    <tr>\n",
       "      <th>264</th>\n",
       "      <td>WorkCodeSharingFreeForm</td>\n",
       "      <td>At work, which tools do you use to share code?...</td>\n",
       "      <td>CodingWorker</td>\n",
       "    </tr>\n",
       "    <tr>\n",
       "      <th>265</th>\n",
       "      <td>RemoteWork</td>\n",
       "      <td>How often do you work remotely?</td>\n",
       "      <td>CodingWorker</td>\n",
       "    </tr>\n",
       "    <tr>\n",
       "      <th>266</th>\n",
       "      <td>CompensationAmount</td>\n",
       "      <td>What is your current total yearly compensation...</td>\n",
       "      <td>CodingWorker</td>\n",
       "    </tr>\n",
       "    <tr>\n",
       "      <th>267</th>\n",
       "      <td>CompensationCurrency</td>\n",
       "      <td>What is your current total yearly compensation...</td>\n",
       "      <td>CodingWorker</td>\n",
       "    </tr>\n",
       "    <tr>\n",
       "      <th>268</th>\n",
       "      <td>SalaryChange</td>\n",
       "      <td>How has your salary/compensation changed in th...</td>\n",
       "      <td>CodingWorker</td>\n",
       "    </tr>\n",
       "    <tr>\n",
       "      <th>269</th>\n",
       "      <td>SalaryChangeFreeForm</td>\n",
       "      <td>How has your salary/compensation changed in th...</td>\n",
       "      <td>CodingWorker</td>\n",
       "    </tr>\n",
       "    <tr>\n",
       "      <th>270</th>\n",
       "      <td>JobSatisfaction</td>\n",
       "      <td>On a scale from 0 (Highly Dissatisfied) - 10 (...</td>\n",
       "      <td>CodingWorker</td>\n",
       "    </tr>\n",
       "    <tr>\n",
       "      <th>271</th>\n",
       "      <td>JobSearchResource</td>\n",
       "      <td>Which resource has been the best for finding d...</td>\n",
       "      <td>Learners</td>\n",
       "    </tr>\n",
       "    <tr>\n",
       "      <th>272</th>\n",
       "      <td>JobSearchResourceFreeForm</td>\n",
       "      <td>Which resource has been the best for finding d...</td>\n",
       "      <td>Learners</td>\n",
       "    </tr>\n",
       "    <tr>\n",
       "      <th>273</th>\n",
       "      <td>JobHuntTime</td>\n",
       "      <td>How many hours per week have you typically spe...</td>\n",
       "      <td>Learners</td>\n",
       "    </tr>\n",
       "    <tr>\n",
       "      <th>274</th>\n",
       "      <td>JobFactorLearning</td>\n",
       "      <td>How are you assessing potential job opportunit...</td>\n",
       "      <td>Learners</td>\n",
       "    </tr>\n",
       "    <tr>\n",
       "      <th>275</th>\n",
       "      <td>JobFactorSalary</td>\n",
       "      <td>How are you assessing potential job opportunit...</td>\n",
       "      <td>Learners</td>\n",
       "    </tr>\n",
       "    <tr>\n",
       "      <th>276</th>\n",
       "      <td>JobFactorOffice</td>\n",
       "      <td>How are you assessing potential job opportunit...</td>\n",
       "      <td>Learners</td>\n",
       "    </tr>\n",
       "    <tr>\n",
       "      <th>277</th>\n",
       "      <td>JobFactorLanguages</td>\n",
       "      <td>How are you assessing potential job opportunit...</td>\n",
       "      <td>Learners</td>\n",
       "    </tr>\n",
       "    <tr>\n",
       "      <th>278</th>\n",
       "      <td>JobFactorCommute</td>\n",
       "      <td>How are you assessing potential job opportunit...</td>\n",
       "      <td>Learners</td>\n",
       "    </tr>\n",
       "    <tr>\n",
       "      <th>279</th>\n",
       "      <td>JobFactorManagement</td>\n",
       "      <td>How are you assessing potential job opportunit...</td>\n",
       "      <td>Learners</td>\n",
       "    </tr>\n",
       "    <tr>\n",
       "      <th>280</th>\n",
       "      <td>JobFactorExperienceLevel</td>\n",
       "      <td>How are you assessing potential job opportunit...</td>\n",
       "      <td>Learners</td>\n",
       "    </tr>\n",
       "    <tr>\n",
       "      <th>281</th>\n",
       "      <td>JobFactorDepartment</td>\n",
       "      <td>How are you assessing potential job opportunit...</td>\n",
       "      <td>Learners</td>\n",
       "    </tr>\n",
       "    <tr>\n",
       "      <th>282</th>\n",
       "      <td>JobFactorTitle</td>\n",
       "      <td>How are you assessing potential job opportunit...</td>\n",
       "      <td>Learners</td>\n",
       "    </tr>\n",
       "    <tr>\n",
       "      <th>283</th>\n",
       "      <td>JobFactorCompanyFunding</td>\n",
       "      <td>How are you assessing potential job opportunit...</td>\n",
       "      <td>Learners</td>\n",
       "    </tr>\n",
       "    <tr>\n",
       "      <th>284</th>\n",
       "      <td>JobFactorImpact</td>\n",
       "      <td>How are you assessing potential job opportunit...</td>\n",
       "      <td>Learners</td>\n",
       "    </tr>\n",
       "    <tr>\n",
       "      <th>285</th>\n",
       "      <td>JobFactorRemote</td>\n",
       "      <td>How are you assessing potential job opportunit...</td>\n",
       "      <td>Learners</td>\n",
       "    </tr>\n",
       "    <tr>\n",
       "      <th>286</th>\n",
       "      <td>JobFactorIndustry</td>\n",
       "      <td>How are you assessing potential job opportunit...</td>\n",
       "      <td>Learners</td>\n",
       "    </tr>\n",
       "    <tr>\n",
       "      <th>287</th>\n",
       "      <td>JobFactorLeaderReputation</td>\n",
       "      <td>How are you assessing potential job opportunit...</td>\n",
       "      <td>Learners</td>\n",
       "    </tr>\n",
       "    <tr>\n",
       "      <th>288</th>\n",
       "      <td>JobFactorDiversity</td>\n",
       "      <td>How are you assessing potential job opportunit...</td>\n",
       "      <td>Learners</td>\n",
       "    </tr>\n",
       "    <tr>\n",
       "      <th>289</th>\n",
       "      <td>JobFactorPublishingOpportunity</td>\n",
       "      <td>How are you assessing potential job opportunit...</td>\n",
       "      <td>Learners</td>\n",
       "    </tr>\n",
       "  </tbody>\n",
       "</table>\n",
       "<p>290 rows × 3 columns</p>\n",
       "</div>"
      ],
      "text/plain": [
       "                                Column  \\\n",
       "0                         GenderSelect   \n",
       "1                       GenderFreeForm   \n",
       "2                              Country   \n",
       "3                                  Age   \n",
       "4                     EmploymentStatus   \n",
       "5                        StudentStatus   \n",
       "6                  LearningDataScience   \n",
       "7             KaggleMotivationFreeForm   \n",
       "8                           CodeWriter   \n",
       "9                       CareerSwitcher   \n",
       "10               CurrentJobTitleSelect   \n",
       "11             CurrentJobTitleFreeForm   \n",
       "12                            TitleFit   \n",
       "13                 CurrentEmployerType   \n",
       "14                MLToolNextYearSelect   \n",
       "15              MLToolNextYearFreeForm   \n",
       "16              MLMethodNextYearSelect   \n",
       "17            MLMethodNextYearFreeForm   \n",
       "18        LanguageRecommendationSelect   \n",
       "19      LanguageRecommendationFreeForm   \n",
       "20                PublicDatasetsSelect   \n",
       "21              PublicDatasetsFreeForm   \n",
       "22   PersonalProjectsChallengeFreeForm   \n",
       "23              LearningPlatformSelect   \n",
       "24   LearningPlatformCommunityFreeForm   \n",
       "25           LearningPlatformFreeForm1   \n",
       "26           LearningPlatformFreeForm2   \n",
       "27           LearningPlatformFreeForm3   \n",
       "28     LearningPlatformUsefulnessArxiv   \n",
       "29     LearningPlatformUsefulnessBlogs   \n",
       "..                                 ...   \n",
       "260            WorkDataStorageFreeForm   \n",
       "261                    WorkDataSharing   \n",
       "262                   WorkDataSourcing   \n",
       "263                    WorkCodeSharing   \n",
       "264            WorkCodeSharingFreeForm   \n",
       "265                         RemoteWork   \n",
       "266                 CompensationAmount   \n",
       "267               CompensationCurrency   \n",
       "268                       SalaryChange   \n",
       "269               SalaryChangeFreeForm   \n",
       "270                    JobSatisfaction   \n",
       "271                  JobSearchResource   \n",
       "272          JobSearchResourceFreeForm   \n",
       "273                        JobHuntTime   \n",
       "274                  JobFactorLearning   \n",
       "275                    JobFactorSalary   \n",
       "276                    JobFactorOffice   \n",
       "277                 JobFactorLanguages   \n",
       "278                   JobFactorCommute   \n",
       "279                JobFactorManagement   \n",
       "280           JobFactorExperienceLevel   \n",
       "281                JobFactorDepartment   \n",
       "282                     JobFactorTitle   \n",
       "283            JobFactorCompanyFunding   \n",
       "284                    JobFactorImpact   \n",
       "285                    JobFactorRemote   \n",
       "286                  JobFactorIndustry   \n",
       "287          JobFactorLeaderReputation   \n",
       "288                 JobFactorDiversity   \n",
       "289     JobFactorPublishingOpportunity   \n",
       "\n",
       "                                              Question         Asked  \n",
       "0       Select your gender identity. - Selected Choice           All  \n",
       "1    Select your gender identity. - A different ide...           All  \n",
       "2            Select the country you currently live in.           All  \n",
       "3                                     What's your age?           All  \n",
       "4               What's your current employment status?           All  \n",
       "5    Are you currently enrolled as a student at a d...    Non-worker  \n",
       "6    Are you currently focused on learning data sci...    Non-worker  \n",
       "7      What's your motivation for being a Kaggle user?  Non-switcher  \n",
       "8    Do you write code to analyze data in your curr...       Worker1  \n",
       "9    Are you actively looking to switch careers to ...       Worker1  \n",
       "10   Select the option that's most similar to your ...       Worker1  \n",
       "11   Select the option that's most similar to your ...       Worker1  \n",
       "12   How adequately do you feel your title describe...       Worker1  \n",
       "13   Which of the following describe your current e...       Worker1  \n",
       "14   Which tool or technology are you most excited ...           All  \n",
       "15   Which tool or technology are you most excited ...           All  \n",
       "16   Which ML/DS method are you most excited about ...           All  \n",
       "17   Which ML/DS method are you most excited about ...           All  \n",
       "18   What programming language would you recommend ...           All  \n",
       "19   What programming language would you recommend ...           All  \n",
       "20   Where do you find public datasets to practice ...           All  \n",
       "21   Where do you find public datasets to practice ...           All  \n",
       "22   What is your biggest challenge with the public...           All  \n",
       "23   What platforms & resources have you used to co...           All  \n",
       "24   What platforms & resources have you used to co...           All  \n",
       "25   What platforms & resources have you used to co...           All  \n",
       "26   What platforms & resources have you used to co...           All  \n",
       "27   What platforms & resources have you used to co...           All  \n",
       "28   How useful did you find these platforms & reso...           All  \n",
       "29   How useful did you find these platforms & reso...           All  \n",
       "..                                                 ...           ...  \n",
       "260  At work, which of these data storage models do...  CodingWorker  \n",
       "261  At work, which tools do you use to share sourc...  CodingWorker  \n",
       "262  At work, which tools do you use to share sourc...  CodingWorker  \n",
       "263  At work, which tools do you use to share code?...  CodingWorker  \n",
       "264  At work, which tools do you use to share code?...  CodingWorker  \n",
       "265                    How often do you work remotely?  CodingWorker  \n",
       "266  What is your current total yearly compensation...  CodingWorker  \n",
       "267  What is your current total yearly compensation...  CodingWorker  \n",
       "268  How has your salary/compensation changed in th...  CodingWorker  \n",
       "269  How has your salary/compensation changed in th...  CodingWorker  \n",
       "270  On a scale from 0 (Highly Dissatisfied) - 10 (...  CodingWorker  \n",
       "271  Which resource has been the best for finding d...      Learners  \n",
       "272  Which resource has been the best for finding d...      Learners  \n",
       "273  How many hours per week have you typically spe...      Learners  \n",
       "274  How are you assessing potential job opportunit...      Learners  \n",
       "275  How are you assessing potential job opportunit...      Learners  \n",
       "276  How are you assessing potential job opportunit...      Learners  \n",
       "277  How are you assessing potential job opportunit...      Learners  \n",
       "278  How are you assessing potential job opportunit...      Learners  \n",
       "279  How are you assessing potential job opportunit...      Learners  \n",
       "280  How are you assessing potential job opportunit...      Learners  \n",
       "281  How are you assessing potential job opportunit...      Learners  \n",
       "282  How are you assessing potential job opportunit...      Learners  \n",
       "283  How are you assessing potential job opportunit...      Learners  \n",
       "284  How are you assessing potential job opportunit...      Learners  \n",
       "285  How are you assessing potential job opportunit...      Learners  \n",
       "286  How are you assessing potential job opportunit...      Learners  \n",
       "287  How are you assessing potential job opportunit...      Learners  \n",
       "288  How are you assessing potential job opportunit...      Learners  \n",
       "289  How are you assessing potential job opportunit...      Learners  \n",
       "\n",
       "[290 rows x 3 columns]"
      ]
     },
     "execution_count": 9,
     "metadata": {},
     "output_type": "execute_result"
    }
   ],
   "source": [
    "schema_df"
   ]
  },
  {
   "cell_type": "code",
   "execution_count": 10,
   "metadata": {},
   "outputs": [
    {
     "data": {
      "text/plain": [
       "['FormalEducation', 'ParentsEducation']"
      ]
     },
     "execution_count": 10,
     "metadata": {},
     "output_type": "execute_result"
    }
   ],
   "source": [
    "[x for x in df.columns if 'cation' in x]"
   ]
  },
  {
   "cell_type": "code",
   "execution_count": 11,
   "metadata": {},
   "outputs": [
    {
     "data": {
      "text/plain": [
       "array([\"Bachelor's degree\", \"Master's degree\", 'Doctoral degree', nan,\n",
       "       \"Some college/university study without earning a bachelor's degree\",\n",
       "       'I did not complete any formal education past high school',\n",
       "       'Professional degree', 'I prefer not to answer'], dtype=object)"
      ]
     },
     "execution_count": 11,
     "metadata": {},
     "output_type": "execute_result"
    }
   ],
   "source": [
    "df['FormalEducation'].unique()"
   ]
  },
  {
   "cell_type": "code",
   "execution_count": 12,
   "metadata": {},
   "outputs": [],
   "source": [
    "bs_df = df[df['FormalEducation'] == \"Bachelor's degree\"]"
   ]
  },
  {
   "cell_type": "code",
   "execution_count": 13,
   "metadata": {},
   "outputs": [],
   "source": [
    "ms_df = df[df['FormalEducation'] == \"Master's degree\"]"
   ]
  },
  {
   "cell_type": "code",
   "execution_count": 14,
   "metadata": {},
   "outputs": [
    {
     "name": "stderr",
     "output_type": "stream",
     "text": [
      "/opt/conda/envs/learn-env/lib/python3.6/site-packages/ipykernel_launcher.py:1: SettingWithCopyWarning: \n",
      "A value is trying to be set on a copy of a slice from a DataFrame\n",
      "\n",
      "See the caveats in the documentation: http://pandas.pydata.org/pandas-docs/stable/indexing.html#indexing-view-versus-copy\n",
      "  \"\"\"Entry point for launching an IPython kernel.\n"
     ]
    }
   ],
   "source": [
    "bs_df.dropna(subset=[\"AdjustedCompensation\"], inplace=True)"
   ]
  },
  {
   "cell_type": "code",
   "execution_count": 15,
   "metadata": {},
   "outputs": [
    {
     "name": "stderr",
     "output_type": "stream",
     "text": [
      "/opt/conda/envs/learn-env/lib/python3.6/site-packages/ipykernel_launcher.py:1: SettingWithCopyWarning: \n",
      "A value is trying to be set on a copy of a slice from a DataFrame\n",
      "\n",
      "See the caveats in the documentation: http://pandas.pydata.org/pandas-docs/stable/indexing.html#indexing-view-versus-copy\n",
      "  \"\"\"Entry point for launching an IPython kernel.\n"
     ]
    }
   ],
   "source": [
    "ms_df.dropna(subset=[\"AdjustedCompensation\"], inplace=True)"
   ]
  },
  {
   "cell_type": "code",
   "execution_count": 16,
   "metadata": {},
   "outputs": [
    {
     "data": {
      "text/plain": [
       "(1107, 1990)"
      ]
     },
     "execution_count": 16,
     "metadata": {},
     "output_type": "execute_result"
    }
   ],
   "source": [
    "len(bs_df), len(ms_df)"
   ]
  },
  {
   "cell_type": "code",
   "execution_count": 22,
   "metadata": {},
   "outputs": [
    {
     "data": {
      "text/plain": [
       "0.007226738934056007"
      ]
     },
     "execution_count": 22,
     "metadata": {},
     "output_type": "execute_result"
    }
   ],
   "source": [
    "len(bs_df[bs_df[\"AdjustedCompensation\"] == 0])/len(bs_df)"
   ]
  },
  {
   "cell_type": "code",
   "execution_count": 23,
   "metadata": {},
   "outputs": [
    {
     "data": {
      "text/plain": [
       "0.010552763819095477"
      ]
     },
     "execution_count": 23,
     "metadata": {},
     "output_type": "execute_result"
    }
   ],
   "source": [
    "len(ms_df[ms_df[\"AdjustedCompensation\"] == 0])/len(ms_df)"
   ]
  },
  {
   "cell_type": "code",
   "execution_count": 24,
   "metadata": {},
   "outputs": [],
   "source": [
    "bs_df = bs_df[bs_df[\"AdjustedCompensation\"] != 0]"
   ]
  },
  {
   "cell_type": "code",
   "execution_count": 25,
   "metadata": {},
   "outputs": [],
   "source": [
    "ms_df = ms_df[ms_df[\"AdjustedCompensation\"] != 0]"
   ]
  },
  {
   "cell_type": "code",
   "execution_count": 26,
   "metadata": {},
   "outputs": [
    {
     "data": {
      "text/plain": [
       "(1099, 1969)"
      ]
     },
     "execution_count": 26,
     "metadata": {},
     "output_type": "execute_result"
    }
   ],
   "source": [
    "len(bs_df), len(ms_df)"
   ]
  },
  {
   "cell_type": "code",
   "execution_count": 28,
   "metadata": {},
   "outputs": [
    {
     "data": {
      "text/plain": [
       "<matplotlib.legend.Legend at 0x7f20be993f60>"
      ]
     },
     "execution_count": 28,
     "metadata": {},
     "output_type": "execute_result"
    },
    {
     "data": {
      "image/png": "[encoded data removed]",
      "text/plain": [
       "<Figure size 432x288 with 1 Axes>"
      ]
     },
     "metadata": {
      "needs_background": "light"
     },
     "output_type": "display_data"
    }
   ],
   "source": [
    "plt.hist(np.log(bs_df[\"AdjustedCompensation\"]), bins=100, alpha=0.5, label='BS')\n",
    "plt.hist(np.log(ms_df[\"AdjustedCompensation\"]), bins=100, alpha=0.5, label='MS')\n",
    "plt.legend()"
   ]
  },
  {
   "cell_type": "markdown",
   "metadata": {},
   "source": [
    "## Wages and Education\n",
    "\n",
    "You've been asked to determine whether education is impactful to salary. Develop a hypothesis test to compare the salaries of those with Master's degrees to those with Bachelor's degrees. Are the two statistically different according to your results?\n",
    "\n",
    "> Note: The relevant features are stored in the 'FormalEducation' and 'AdjustedCompensation' features."
   ]
  },
  {
   "cell_type": "code",
   "execution_count": 17,
   "metadata": {},
   "outputs": [],
   "source": [
    "import numpy as np\n",
    "import matplotlib.pyplot as plt"
   ]
  },
  {
   "cell_type": "code",
   "execution_count": 19,
   "metadata": {},
   "outputs": [],
   "source": [
    "import statsmodels"
   ]
  },
  {
   "cell_type": "code",
   "execution_count": 30,
   "metadata": {},
   "outputs": [],
   "source": [
    "from scipy import stats"
   ]
  },
  {
   "cell_type": "code",
   "execution_count": 31,
   "metadata": {},
   "outputs": [
    {
     "name": "stdout",
     "output_type": "stream",
     "text": [
      "(0.8487945199012756, 3.965672192216566e-31)\n",
      "(0.7717934846878052, 0.0)\n"
     ]
    }
   ],
   "source": [
    "print(stats.shapiro(np.log(bs_df[\"AdjustedCompensation\"])))\n",
    "print(stats.shapiro(np.log(ms_df[\"AdjustedCompensation\"])))"
   ]
  },
  {
   "cell_type": "code",
   "execution_count": 32,
   "metadata": {},
   "outputs": [
    {
     "data": {
      "text/plain": [
       "Ttest_indResult(statistic=-5.433034113657676, pvalue=6.176639286198528e-08)"
      ]
     },
     "execution_count": 32,
     "metadata": {},
     "output_type": "execute_result"
    }
   ],
   "source": [
    "stats.ttest_ind(np.log(bs_df[\"AdjustedCompensation\"]), np.log(ms_df[\"AdjustedCompensation\"]), equal_var = False)"
   ]
  },
  {
   "cell_type": "code",
   "execution_count": 33,
   "metadata": {},
   "outputs": [
    {
     "name": "stdout",
     "output_type": "stream",
     "text": [
      "10.106547343883838\n",
      "10.465851066410725\n"
     ]
    }
   ],
   "source": [
    "print(np.mean(np.log(bs_df[\"AdjustedCompensation\"])))\n",
    "print(np.mean(np.log(ms_df[\"AdjustedCompensation\"])))"
   ]
  },
  {
   "cell_type": "markdown",
   "metadata": {},
   "source": [
    "Looks like MS participants make more than BS participants"
   ]
  },
  {
   "cell_type": "markdown",
   "metadata": {},
   "source": [
    "## Wages and Education II\n",
    "\n",
    "Now perform a similar statistical test comparing the AdjustedCompensation of those with Bachelor's degrees and those with Doctorates. If you haven't already, be sure to explore the distribution of the AdjustedCompensation feature for any anomalies. "
   ]
  },
  {
   "cell_type": "code",
   "execution_count": 14,
   "metadata": {},
   "outputs": [
    {
     "name": "stderr",
     "output_type": "stream",
     "text": [
      "/opt/conda/envs/learn-env/lib/python3.6/site-packages/ipykernel_launcher.py:1: SettingWithCopyWarning: \n",
      "A value is trying to be set on a copy of a slice from a DataFrame\n",
      "\n",
      "See the caveats in the documentation: http://pandas.pydata.org/pandas-docs/stable/indexing.html#indexing-view-versus-copy\n",
      "  \"\"\"Entry point for launching an IPython kernel.\n"
     ]
    }
   ],
   "source": [
    "phd_df.dropna(subset=[\"AdjustedCompensation\"], inplace=True)"
   ]
  },
  {
   "cell_type": "code",
   "execution_count": 16,
   "metadata": {},
   "outputs": [
    {
     "data": {
      "text/plain": [
       "(1107, 1990)"
      ]
     },
     "execution_count": 16,
     "metadata": {},
     "output_type": "execute_result"
    }
   ],
   "source": [
    "len(bs_df), len(ms_df)"
   ]
  },
  {
   "cell_type": "code",
   "execution_count": 22,
   "metadata": {},
   "outputs": [
    {
     "data": {
      "text/plain": [
       "0.007226738934056007"
      ]
     },
     "execution_count": 22,
     "metadata": {},
     "output_type": "execute_result"
    }
   ],
   "source": [
    "len(bs_df[bs_df[\"AdjustedCompensation\"] == 0])/len(bs_df)"
   ]
  },
  {
   "cell_type": "code",
   "execution_count": 24,
   "metadata": {},
   "outputs": [],
   "source": [
    "bs_df = bs_df[bs_df[\"AdjustedCompensation\"] != 0]"
   ]
  },
  {
   "cell_type": "code",
   "execution_count": 26,
   "metadata": {},
   "outputs": [
    {
     "data": {
      "text/plain": [
       "(1099, 1969)"
      ]
     },
     "execution_count": 26,
     "metadata": {},
     "output_type": "execute_result"
    }
   ],
   "source": [
    "len(bs_df), len(ms_df)"
   ]
  },
  {
   "cell_type": "code",
   "execution_count": 11,
   "metadata": {},
   "outputs": [
    {
     "name": "stdout",
     "output_type": "stream",
     "text": [
      "Median Values: \n",
      "s1:74131.92 \n",
      "s2:38399.4\n",
      "Sample sizes: \n",
      "s1: 967 \n",
      "s2: 1107\n",
      "Welch's t-test p-value: 0.1568238199472023\n",
      "\n",
      "\n",
      "Repeated Test with Ouliers Removed:\n",
      "Sample sizes: \n",
      "s1: 964 \n",
      "s2: 1103\n",
      "Welch's t-test p-value with outliers removed: 0.0\n"
     ]
    }
   ],
   "source": [
    "#Your code here"
   ]
  },
  {
   "cell_type": "markdown",
   "metadata": {},
   "source": [
    "## Wages and Education III\n",
    "\n",
    "Remember the multiple comparisons problem; rather than continuing on like this, perform an ANOVA test between the various 'FormalEducation' categories and their relation to 'AdjustedCompensation'."
   ]
  },
  {
   "cell_type": "code",
   "execution_count": null,
   "metadata": {},
   "outputs": [],
   "source": [
    "#Your code here"
   ]
  },
  {
   "cell_type": "markdown",
   "metadata": {},
   "source": [
    "## Additional Resources\n",
    "\n",
    "Here's the original source where the data was taken from:  \n",
    "    [Kaggle Machine Learning & Data Science Survey 2017](https://www.kaggle.com/kaggle/kaggle-survey-2017)"
   ]
  },
  {
   "cell_type": "markdown",
   "metadata": {},
   "source": [
    "## Summary\n",
    "\n",
    "In this lab, you practiced conducting actual hypothesis tests on actual data. From this, you saw how dependent results can be on the initial problem formulation, including preprocessing!"
   ]
  }
 ],
 "metadata": {
  "kernelspec": {
   "display_name": "Python 3",
   "language": "python",
   "name": "python3"
  },
  "language_info": {
   "codemirror_mode": {
    "name": "ipython",
    "version": 3
   },
   "file_extension": ".py",
   "mimetype": "text/x-python",
   "name": "python",
   "nbconvert_exporter": "python",
   "pygments_lexer": "ipython3",
   "version": "3.6.6"
  }
 },
 "nbformat": 4,
 "nbformat_minor": 2
}
